{
 "cells": [
  {
   "cell_type": "markdown",
   "id": "cellular-logistics",
   "metadata": {},
   "source": [
    "# Library Migration in Python\n",
    "1. 筛选出100个star以上的带有requirements.txt的project\n",
    "2. 根据git tag获取tag信息以及SHA\n",
    "3. git checkout SHA，cat requirements.txt获取依赖信息\n",
    "4. 每个tag与最近的版本进行比较，提取依赖信息变化\n",
    "5. 构造迁移规则，计算四个指标，提取出最可能的规则\n",
    "6. 根据规则分析迁移频率以及特点\n",
    "7. 实现库迁移推荐算法"
   ]
  },
  {
   "cell_type": "code",
   "execution_count": 47,
   "id": "correct-prime",
   "metadata": {},
   "outputs": [
    {
     "data": {
      "text/html": [
       "<div>\n",
       "<style scoped>\n",
       "    .dataframe tbody tr th:only-of-type {\n",
       "        vertical-align: middle;\n",
       "    }\n",
       "\n",
       "    .dataframe tbody tr th {\n",
       "        vertical-align: top;\n",
       "    }\n",
       "\n",
       "    .dataframe thead th {\n",
       "        text-align: right;\n",
       "    }\n",
       "</style>\n",
       "<table border=\"1\" class=\"dataframe\">\n",
       "  <thead>\n",
       "    <tr style=\"text-align: right;\">\n",
       "      <th></th>\n",
       "      <th>repoName</th>\n",
       "      <th>version</th>\n",
       "      <th>commit</th>\n",
       "      <th>date</th>\n",
       "    </tr>\n",
       "  </thead>\n",
       "  <tbody>\n",
       "    <tr>\n",
       "      <th>80926</th>\n",
       "      <td>ansible</td>\n",
       "      <td>0.1.0</td>\n",
       "      <td>56de2e112a97f312c7a07c89e1ce5de74a2637f8</td>\n",
       "      <td>2012-03-08 19:12:58+00:00</td>\n",
       "    </tr>\n",
       "    <tr>\n",
       "      <th>80927</th>\n",
       "      <td>ansible</td>\n",
       "      <td>0.0.1</td>\n",
       "      <td>2e1b59a9d2440be500cbb73117ffcf60a5bc137b</td>\n",
       "      <td>2012-03-13 23:27:13+00:00</td>\n",
       "    </tr>\n",
       "    <tr>\n",
       "      <th>80928</th>\n",
       "      <td>ansible</td>\n",
       "      <td>0.0.2</td>\n",
       "      <td>09e690fd7c303466179cdf417f50de64875a9657</td>\n",
       "      <td>2012-04-04 00:20:55+00:00</td>\n",
       "    </tr>\n",
       "    <tr>\n",
       "      <th>80929</th>\n",
       "      <td>ansible</td>\n",
       "      <td>0.3.0</td>\n",
       "      <td>4d6251099756c98a4b7224571d4f7d2128c8f4d2</td>\n",
       "      <td>2012-04-24 01:13:06+00:00</td>\n",
       "    </tr>\n",
       "    <tr>\n",
       "      <th>80930</th>\n",
       "      <td>ansible</td>\n",
       "      <td>0.3.1</td>\n",
       "      <td>5a156d6817e1f4fc77801bad22e4ddbd0719b57e</td>\n",
       "      <td>2012-05-01 23:03:55+00:00</td>\n",
       "    </tr>\n",
       "    <tr>\n",
       "      <th>...</th>\n",
       "      <td>...</td>\n",
       "      <td>...</td>\n",
       "      <td>...</td>\n",
       "      <td>...</td>\n",
       "    </tr>\n",
       "    <tr>\n",
       "      <th>81117</th>\n",
       "      <td>ansible</td>\n",
       "      <td>2.10.6</td>\n",
       "      <td>9ea56ff2925a2d6afe62333340570b44e59e50a1</td>\n",
       "      <td>2021-02-19 00:31:43+00:00</td>\n",
       "    </tr>\n",
       "    <tr>\n",
       "      <th>81118</th>\n",
       "      <td>ansible</td>\n",
       "      <td>2.9.18</td>\n",
       "      <td>4455e60166a8271771d96c24f47b6714130d200f</td>\n",
       "      <td>2021-02-19 00:33:27+00:00</td>\n",
       "    </tr>\n",
       "    <tr>\n",
       "      <th>81119</th>\n",
       "      <td>ansible</td>\n",
       "      <td>2.8.19</td>\n",
       "      <td>1205ad6a1a108376654d128ac903049168bf3d35</td>\n",
       "      <td>2021-02-19 00:33:42+00:00</td>\n",
       "    </tr>\n",
       "    <tr>\n",
       "      <th>81120</th>\n",
       "      <td>ansible</td>\n",
       "      <td>2.9.19</td>\n",
       "      <td>98cb6fe4ebbc8f04cb72f5e2d86c91baab8d9836</td>\n",
       "      <td>2021-03-16 00:54:13+00:00</td>\n",
       "    </tr>\n",
       "    <tr>\n",
       "      <th>81121</th>\n",
       "      <td>ansible</td>\n",
       "      <td>2.10.7</td>\n",
       "      <td>4226af2718f3d478bed2d07091692d65604b3d71</td>\n",
       "      <td>2021-03-16 00:54:39+00:00</td>\n",
       "    </tr>\n",
       "  </tbody>\n",
       "</table>\n",
       "<p>196 rows × 4 columns</p>\n",
       "</div>"
      ],
      "text/plain": [
       "      repoName version                                    commit  \\\n",
       "80926  ansible   0.1.0  56de2e112a97f312c7a07c89e1ce5de74a2637f8   \n",
       "80927  ansible   0.0.1  2e1b59a9d2440be500cbb73117ffcf60a5bc137b   \n",
       "80928  ansible   0.0.2  09e690fd7c303466179cdf417f50de64875a9657   \n",
       "80929  ansible   0.3.0  4d6251099756c98a4b7224571d4f7d2128c8f4d2   \n",
       "80930  ansible   0.3.1  5a156d6817e1f4fc77801bad22e4ddbd0719b57e   \n",
       "...        ...     ...                                       ...   \n",
       "81117  ansible  2.10.6  9ea56ff2925a2d6afe62333340570b44e59e50a1   \n",
       "81118  ansible  2.9.18  4455e60166a8271771d96c24f47b6714130d200f   \n",
       "81119  ansible  2.8.19  1205ad6a1a108376654d128ac903049168bf3d35   \n",
       "81120  ansible  2.9.19  98cb6fe4ebbc8f04cb72f5e2d86c91baab8d9836   \n",
       "81121  ansible  2.10.7  4226af2718f3d478bed2d07091692d65604b3d71   \n",
       "\n",
       "                            date  \n",
       "80926  2012-03-08 19:12:58+00:00  \n",
       "80927  2012-03-13 23:27:13+00:00  \n",
       "80928  2012-04-04 00:20:55+00:00  \n",
       "80929  2012-04-24 01:13:06+00:00  \n",
       "80930  2012-05-01 23:03:55+00:00  \n",
       "...                          ...  \n",
       "81117  2021-02-19 00:31:43+00:00  \n",
       "81118  2021-02-19 00:33:27+00:00  \n",
       "81119  2021-02-19 00:33:42+00:00  \n",
       "81120  2021-03-16 00:54:13+00:00  \n",
       "81121  2021-03-16 00:54:39+00:00  \n",
       "\n",
       "[196 rows x 4 columns]"
      ]
     },
     "execution_count": 47,
     "metadata": {},
     "output_type": "execute_result"
    }
   ],
   "source": [
    "import pandas as pd\n",
    "df = pd.read_excel('data/project_version_with_commit.xlsx')\n",
    "df[df['repoName']=='ansible']\n"
   ]
  },
  {
   "cell_type": "code",
   "execution_count": 12,
   "id": "immune-aside",
   "metadata": {
    "tags": []
   },
   "outputs": [
    {
     "output_type": "stream",
     "name": "stderr",
     "text": [
      "计算进度: 100%|██████████| 82014/82014 [33:38<00:00, 40.63it/s, 并行函数=get_requirements_change, 计算花销=2018s]\n"
     ]
    },
    {
     "output_type": "execute_result",
     "data": {
      "text/plain": [
       "               repoName version                                    commit  \\\n",
       "0  ncbi-genome-download   0.2.0  a078d93517236acfacb0ec1a633e6728384390b5   \n",
       "1  ncbi-genome-download   0.2.0  a078d93517236acfacb0ec1a633e6728384390b5   \n",
       "2  ncbi-genome-download   0.2.1  26de45d3b18059269b77b5a342f27e7e53c1d74a   \n",
       "3  ncbi-genome-download   0.2.1  26de45d3b18059269b77b5a342f27e7e53c1d74a   \n",
       "4  ncbi-genome-download   0.2.1  26de45d3b18059269b77b5a342f27e7e53c1d74a   \n",
       "5               PageBot   1.0.2  c8f8ff208845622ef139a466e01e83bdbea87952   \n",
       "6               PageBot   1.0.2  c8f8ff208845622ef139a466e01e83bdbea87952   \n",
       "7               PageBot   1.0.2  c8f8ff208845622ef139a466e01e83bdbea87952   \n",
       "8               PageBot   1.0.2  c8f8ff208845622ef139a466e01e83bdbea87952   \n",
       "9               PageBot   1.0.2  c8f8ff208845622ef139a466e01e83bdbea87952   \n",
       "\n",
       "                        date       type                 l1        v1  \\\n",
       "0  2016-09-09 17:11:51+00:00        add          pyOpenSSL  >=16.0.0   \n",
       "1  2016-09-09 17:11:51+00:00        add    ndg-httpsclient   >=0.4.0   \n",
       "2  2016-11-30 15:45:49+00:00        rem                NaN       NaN   \n",
       "3  2016-11-30 15:45:49+00:00        rem                NaN       NaN   \n",
       "4  2016-11-30 15:45:49+00:00        rem                NaN       NaN   \n",
       "5  2021-01-12 15:24:31+00:00  verchange          uharfbuzz  ==0.14.0   \n",
       "6  2021-01-12 15:24:31+00:00  verchange          fontTools  >=4.17.1   \n",
       "7  2021-01-12 15:24:31+00:00  verchange           markdown   >=3.3.3   \n",
       "8  2021-01-12 15:24:31+00:00  verchange             Pillow   >=7.2.0   \n",
       "9  2021-01-12 15:24:31+00:00  verchange  booleanOperations             \n",
       "\n",
       "                  l2        v2  \\\n",
       "0                NaN       NaN   \n",
       "1                NaN       NaN   \n",
       "2           requests             \n",
       "3          pyOpenSSL  >=16.0.0   \n",
       "4    ndg-httpsclient   >=0.4.0   \n",
       "5          uharfbuzz             \n",
       "6          fontTools   ==4.0.2   \n",
       "7           markdown   ==3.1.1   \n",
       "8             Pillow   >=7.0.1   \n",
       "9  booleanOperations   ==0.8.2   \n",
       "\n",
       "                                             message  \n",
       "0  requirements: Avoid confusing older setuptools...  \n",
       "1  requirements: Avoid confusing older setuptools...  \n",
       "2  Bump version to 0.2.1\\nSigned-off-by: Kai Blin...  \n",
       "3  Bump version to 0.2.1\\nSigned-off-by: Kai Blin...  \n",
       "4  Bump version to 0.2.1\\nSigned-off-by: Kai Blin...  \n",
       "5                                   Bumping version.  \n",
       "6                                   Bumping version.  \n",
       "7                                   Bumping version.  \n",
       "8                                   Bumping version.  \n",
       "9                                   Bumping version.  "
      ],
      "text/html": "<div>\n<style scoped>\n    .dataframe tbody tr th:only-of-type {\n        vertical-align: middle;\n    }\n\n    .dataframe tbody tr th {\n        vertical-align: top;\n    }\n\n    .dataframe thead th {\n        text-align: right;\n    }\n</style>\n<table border=\"1\" class=\"dataframe\">\n  <thead>\n    <tr style=\"text-align: right;\">\n      <th></th>\n      <th>repoName</th>\n      <th>version</th>\n      <th>commit</th>\n      <th>date</th>\n      <th>type</th>\n      <th>l1</th>\n      <th>v1</th>\n      <th>l2</th>\n      <th>v2</th>\n      <th>message</th>\n    </tr>\n  </thead>\n  <tbody>\n    <tr>\n      <th>0</th>\n      <td>ncbi-genome-download</td>\n      <td>0.2.0</td>\n      <td>a078d93517236acfacb0ec1a633e6728384390b5</td>\n      <td>2016-09-09 17:11:51+00:00</td>\n      <td>add</td>\n      <td>pyOpenSSL</td>\n      <td>&gt;=16.0.0</td>\n      <td>NaN</td>\n      <td>NaN</td>\n      <td>requirements: Avoid confusing older setuptools...</td>\n    </tr>\n    <tr>\n      <th>1</th>\n      <td>ncbi-genome-download</td>\n      <td>0.2.0</td>\n      <td>a078d93517236acfacb0ec1a633e6728384390b5</td>\n      <td>2016-09-09 17:11:51+00:00</td>\n      <td>add</td>\n      <td>ndg-httpsclient</td>\n      <td>&gt;=0.4.0</td>\n      <td>NaN</td>\n      <td>NaN</td>\n      <td>requirements: Avoid confusing older setuptools...</td>\n    </tr>\n    <tr>\n      <th>2</th>\n      <td>ncbi-genome-download</td>\n      <td>0.2.1</td>\n      <td>26de45d3b18059269b77b5a342f27e7e53c1d74a</td>\n      <td>2016-11-30 15:45:49+00:00</td>\n      <td>rem</td>\n      <td>NaN</td>\n      <td>NaN</td>\n      <td>requests</td>\n      <td></td>\n      <td>Bump version to 0.2.1\\nSigned-off-by: Kai Blin...</td>\n    </tr>\n    <tr>\n      <th>3</th>\n      <td>ncbi-genome-download</td>\n      <td>0.2.1</td>\n      <td>26de45d3b18059269b77b5a342f27e7e53c1d74a</td>\n      <td>2016-11-30 15:45:49+00:00</td>\n      <td>rem</td>\n      <td>NaN</td>\n      <td>NaN</td>\n      <td>pyOpenSSL</td>\n      <td>&gt;=16.0.0</td>\n      <td>Bump version to 0.2.1\\nSigned-off-by: Kai Blin...</td>\n    </tr>\n    <tr>\n      <th>4</th>\n      <td>ncbi-genome-download</td>\n      <td>0.2.1</td>\n      <td>26de45d3b18059269b77b5a342f27e7e53c1d74a</td>\n      <td>2016-11-30 15:45:49+00:00</td>\n      <td>rem</td>\n      <td>NaN</td>\n      <td>NaN</td>\n      <td>ndg-httpsclient</td>\n      <td>&gt;=0.4.0</td>\n      <td>Bump version to 0.2.1\\nSigned-off-by: Kai Blin...</td>\n    </tr>\n    <tr>\n      <th>5</th>\n      <td>PageBot</td>\n      <td>1.0.2</td>\n      <td>c8f8ff208845622ef139a466e01e83bdbea87952</td>\n      <td>2021-01-12 15:24:31+00:00</td>\n      <td>verchange</td>\n      <td>uharfbuzz</td>\n      <td>==0.14.0</td>\n      <td>uharfbuzz</td>\n      <td></td>\n      <td>Bumping version.</td>\n    </tr>\n    <tr>\n      <th>6</th>\n      <td>PageBot</td>\n      <td>1.0.2</td>\n      <td>c8f8ff208845622ef139a466e01e83bdbea87952</td>\n      <td>2021-01-12 15:24:31+00:00</td>\n      <td>verchange</td>\n      <td>fontTools</td>\n      <td>&gt;=4.17.1</td>\n      <td>fontTools</td>\n      <td>==4.0.2</td>\n      <td>Bumping version.</td>\n    </tr>\n    <tr>\n      <th>7</th>\n      <td>PageBot</td>\n      <td>1.0.2</td>\n      <td>c8f8ff208845622ef139a466e01e83bdbea87952</td>\n      <td>2021-01-12 15:24:31+00:00</td>\n      <td>verchange</td>\n      <td>markdown</td>\n      <td>&gt;=3.3.3</td>\n      <td>markdown</td>\n      <td>==3.1.1</td>\n      <td>Bumping version.</td>\n    </tr>\n    <tr>\n      <th>8</th>\n      <td>PageBot</td>\n      <td>1.0.2</td>\n      <td>c8f8ff208845622ef139a466e01e83bdbea87952</td>\n      <td>2021-01-12 15:24:31+00:00</td>\n      <td>verchange</td>\n      <td>Pillow</td>\n      <td>&gt;=7.2.0</td>\n      <td>Pillow</td>\n      <td>&gt;=7.0.1</td>\n      <td>Bumping version.</td>\n    </tr>\n    <tr>\n      <th>9</th>\n      <td>PageBot</td>\n      <td>1.0.2</td>\n      <td>c8f8ff208845622ef139a466e01e83bdbea87952</td>\n      <td>2021-01-12 15:24:31+00:00</td>\n      <td>verchange</td>\n      <td>booleanOperations</td>\n      <td></td>\n      <td>booleanOperations</td>\n      <td>==0.8.2</td>\n      <td>Bumping version.</td>\n    </tr>\n  </tbody>\n</table>\n</div>"
     },
     "metadata": {},
     "execution_count": 12
    }
   ],
   "source": [
    "from get_depchange import multi_get_depchg_from_tag_diff\n",
    "multi_get_depchg_from_tag_diff()\n"
   ]
  },
  {
   "cell_type": "code",
   "execution_count": 17,
   "id": "challenging-farmer",
   "metadata": {
    "tags": []
   },
   "outputs": [
    {
     "output_type": "execute_result",
     "data": {
      "text/plain": [
       "[('pip', 0.5),\n",
       " ('mimeparse', 0.5),\n",
       " ('django-dbbackup', 0.5),\n",
       " ('babel', 0.5),\n",
       " ('babeldjango', 0.5),\n",
       " ('boto', 0.5),\n",
       " ('django-model-utils', 0.5),\n",
       " ('django-selectable', 0.5),\n",
       " ('cairosvg', 0.5),\n",
       " ('django-netjsonconfig', 0.5),\n",
       " ('redis', 0.5),\n",
       " ('south', 0.396240625180289),\n",
       " ('rfc6266', 0.20790403173039856),\n",
       " ('tox', 0.125),\n",
       " ('psycopg2', 0.125),\n",
       " ('django-webpack', 0.125),\n",
       " ('requests', 0.125),\n",
       " ('webpack', 0.125),\n",
       " ('js-host', 0.125),\n",
       " ('pytz', 0.125)]"
      ]
     },
     "metadata": {},
     "execution_count": 17
    }
   ],
   "source": [
    "from metric import calculate_query_lib\n",
    "calculate_query_lib('django')"
   ]
  },
  {
   "cell_type": "code",
   "execution_count": 13,
   "metadata": {},
   "outputs": [
    {
     "output_type": "stream",
     "name": "stdout",
     "text": [
      "0.25\n"
     ]
    }
   ],
   "source": [
    "print(1 / 2 ** 2)"
   ]
  }
 ],
 "metadata": {
  "kernelspec": {
   "name": "python385jvsc74a57bd0316cd24d2f165919c0773fcf9bf6265c6273dd91bc90503497cfdf314813e122",
   "display_name": "Python 3.8.5 64-bit ('LM': conda)"
  },
  "language_info": {
   "codemirror_mode": {
    "name": "ipython",
    "version": 3
   },
   "file_extension": ".py",
   "mimetype": "text/x-python",
   "name": "python",
   "nbconvert_exporter": "python",
   "pygments_lexer": "ipython3",
   "version": "3.8.5-final"
  }
 },
 "nbformat": 4,
 "nbformat_minor": 5
}