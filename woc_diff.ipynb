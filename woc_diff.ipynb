{
 "cells": [
  {
   "cell_type": "code",
   "execution_count": null,
   "id": "geographic-netherlands",
   "metadata": {},
   "outputs": [],
   "source": [
    "# Parse diff from WOC\n",
    "# 12f23eddde <rzhe@pku.edu.cn> - Apr 12 2021\n",
    "import os\n",
    "import pandas as pd\n",
    "import numpy as np\n",
    "import requests\n",
    "import re\n",
    "from tqdm.auto import tqdm"
   ]
  },
  {
   "cell_type": "code",
   "execution_count": null,
   "id": "eleven-values",
   "metadata": {},
   "outputs": [],
   "source": [
    "# read credentials from config\n",
    "import configparser\n",
    "\n",
    "config = configparser.ConfigParser()\n",
    "if (os.path.exists('config.ini')):\n",
    "    config.read('config.ini')\n",
    "else:\n",
    "    raise Exception('config.ini not found')\n",
    "\n",
    "MONGO_URL=\"mongodb://127.0.0.1:27017\"\n",
    "    \n",
    "try:\n",
    "    requests_proxies = {\n",
    "        \"http\": f\"{config['Proxy']['proxy']}\",\n",
    "        'https': f\"{config['Proxy']['proxy']}\"\n",
    "    }\n",
    "except KeyError:\n",
    "    requests_proxies = None\n",
    "    \n",
    "git_config=f\"http.proxy={config['Proxy']['proxy']}\"\n",
    "\n",
    "requests_proxies, github_api_headers, git_config"
   ]
  },
  {
   "cell_type": "code",
   "execution_count": 1,
   "id": "heated-forward",
   "metadata": {},
   "outputs": [],
   "source": [
    "import os\n",
    "os.path.dir"
   ]
  },
  {
   "cell_type": "code",
   "execution_count": null,
   "id": "magnetic-phase",
   "metadata": {},
   "outputs": [],
   "source": []
  }
 ],
 "metadata": {
  "kernelspec": {
   "display_name": "Python 3",
   "language": "python",
   "name": "python3"
  },
  "language_info": {
   "codemirror_mode": {
    "name": "ipython",
    "version": 3
   },
   "file_extension": ".py",
   "mimetype": "text/x-python",
   "name": "python",
   "nbconvert_exporter": "python",
   "pygments_lexer": "ipython3",
   "version": "3.8.5"
  }
 },
 "nbformat": 4,
 "nbformat_minor": 5
}
