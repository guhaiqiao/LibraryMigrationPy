{
 "cells": [
  {
   "cell_type": "code",
   "execution_count": 4,
   "id": "radical-valve",
   "metadata": {},
   "outputs": [],
   "source": [
    "# import ast"
   ]
  },
  {
   "cell_type": "code",
   "execution_count": 5,
   "id": "extreme-danish",
   "metadata": {},
   "outputs": [],
   "source": [
    "# with open('setup-test.py', 'r') as f:\n",
    "#     tree = ast.parse(f.read())\n",
    "# ast.dump(tree)"
   ]
  },
  {
   "cell_type": "code",
   "execution_count": 6,
   "id": "hungry-basic",
   "metadata": {},
   "outputs": [],
   "source": [
    "# read credentials from config\n",
    "import os\n",
    "import configparser\n",
    "\n",
    "config = configparser.ConfigParser()\n",
    "if (os.path.exists('config.ini')):\n",
    "    config.read('config.ini')\n",
    "else:\n",
    "    raise Exception('config.ini not found')\n",
    "    \n",
    "try:\n",
    "    github_proxy=config['Proxy']['proxy']\n",
    "except KeyError:\n",
    "    github_proxy= None"
   ]
  },
  {
   "cell_type": "code",
   "execution_count": 7,
   "id": "defensive-alert",
   "metadata": {},
   "outputs": [],
   "source": [
    "# parse setup.py with ast (deprecated)\n",
    "# developers can do literally anything in setup.py\n",
    "# makes it hard to parse setup.py\n",
    "\n",
    "# import textwrap\n",
    "\n",
    "# def parse_setup(setup_filename):\n",
    "#     \"\"\"Parse setup.py and return args and keywords args to its setup\n",
    "#     function call\n",
    "\n",
    "#     \"\"\"\n",
    "#     mock_setup = textwrap.dedent('''\\\n",
    "#     def setup(*args, **kwargs):\n",
    "#         __setup_calls__.append((args, kwargs))\n",
    "#     ''')\n",
    "#     parsed_mock_setup = ast.parse(mock_setup, filename=setup_filename)\n",
    "#     with open(setup_filename, 'rt') as setup_file:\n",
    "#         parsed = ast.parse(setup_file.read())\n",
    "#         for index, node in enumerate(parsed.body[:]):\n",
    "#             if (\n",
    "#                 not isinstance(node, ast.Expr) or\n",
    "#                 not isinstance(node.value, ast.Call) or\n",
    "#                 node.value.func.value.id != 'setup'\n",
    "#             ):\n",
    "#                 continue\n",
    "#             print(node.value)\n",
    "#             parsed.body[index:index] = parsed_mock_setup.body\n",
    "#             break\n",
    "\n",
    "#     fixed = ast.fix_missing_locations(parsed)\n",
    "#     codeobj = compile(fixed, setup_filename, 'exec')\n",
    "#     local_vars = {}\n",
    "#     global_vars = {'__setup_calls__': []}\n",
    "#     exec(codeobj, global_vars, local_vars)\n",
    "    \n",
    "#     # no setup calls\n",
    "#     if not global_vars['__setup_calls__']:\n",
    "#         return []\n",
    "#     else:\n",
    "#         return global_vars['__setup_calls__'][0]\n",
    "\n",
    "# parse_setup('setup-test.py')"
   ]
  },
  {
   "cell_type": "code",
   "execution_count": 11,
   "id": "stable-acrylic",
   "metadata": {},
   "outputs": [
    {
     "data": {
      "text/plain": [
       "'/data/hrz/LibraryMigrationPy/repos_full'"
      ]
     },
     "execution_count": 11,
     "metadata": {},
     "output_type": "execute_result"
    }
   ],
   "source": [
    "os.chdir('/data/hrz/LibraryMigrationPy')\n",
    "REPOS_DIR = 'repos_full/'  # may have a higher success rate\n",
    "if not os.path.exists(REPOS_DIR):\n",
    "    os.mkdir(REPOS_DIR)\n",
    "REPOS_DIR=os.path.abspath(REPOS_DIR)\n",
    "REPOS_DIR"
   ]
  },
  {
   "cell_type": "code",
   "execution_count": 14,
   "id": "indirect-insurance",
   "metadata": {},
   "outputs": [
    {
     "name": "stderr",
     "output_type": "stream",
     "text": [
      "/home/hrz/miniconda3/lib/python3.8/site-packages/setuptools/dist.py:463: UserWarning: Normalizing 'v0.7.1' to '0.7.1'\n",
      "  warnings.warn(tmpl.format(**locals()))\n"
     ]
    },
    {
     "data": {
      "text/plain": [
       "['pysam>=0.15.0', 'numpy', 'scipy', 'cytoolz>=0.8.2']"
      ]
     },
     "execution_count": 14,
     "metadata": {},
     "output_type": "execute_result"
    }
   ],
   "source": [
    "# get dependencies by running setup.py\n",
    "# running time is acceptable\n",
    "\n",
    "import os\n",
    "import sys\n",
    "from distutils.core import run_setup\n",
    "from utils.download_from_github import download_file_from_github\n",
    "\n",
    "def setup_runner(owner: str, repo: str, branch='master', setup_file='setup.py', REPOS_DIR='repos_full/', max_tries=10):\n",
    "    \n",
    "    oldcwd = os.getcwd()\n",
    "#     path = os.path.abspath(f'{REPOS_DIR}/{owner}/{repo}/{branch}/')\n",
    "    path = os.path.abspath(f'{REPOS_DIR}/{owner}/{repo}/')\n",
    "    os.chdir(path)\n",
    "    \n",
    "    result = None\n",
    "    for _ in range(max_tries):\n",
    "        try:\n",
    "            # why run_setup depends on cwd\n",
    "            result = run_setup(setup_file, stop_after=\"init\")\n",
    "            break\n",
    "        except Exception as e:\n",
    "            # file not found, download on demand\n",
    "#             print(f'Missing {owner}/{repo}/{e.filename}, downloading')\n",
    "            if isinstance(e, FileNotFoundError):\n",
    "                download_file_from_github(owner=owner, repo=repo, branch=branch, file=e.filename, \n",
    "                                          proxy=github_proxy, REPOS_DIR=REPOS_DIR)\n",
    "            if isinstance(e, ImportError):\n",
    "                # assume it is a .py file\n",
    "                download_file_from_github(owner=owner, repo=repo, branch=branch, file=e.name + '.py', proxy=github_proxy, REPOS_DIR=REPOS_DIR)\n",
    "            else:\n",
    "                # fail silently\n",
    "                print(e, file=sys.stderr)\n",
    "                break\n",
    "                \n",
    "    os.chdir(oldcwd)\n",
    "    assert(os.getcwd() == oldcwd)\n",
    "    return result.install_requires if result else None\n",
    "\n",
    "setup_runner('hall-lab','svtyper', REPOS_DIR=REPOS_DIR)"
   ]
  },
  {
   "cell_type": "code",
   "execution_count": 15,
   "id": "genetic-rubber",
   "metadata": {},
   "outputs": [],
   "source": [
    "# ref: https://codereview.stackexchange.com/questions/25417/\n",
    "# to install silently\n",
    "class NoStdStreams(object):\n",
    "    def __init__(self,stdout = None, stderr = None, file = ''):\n",
    "        if not file:\n",
    "            self.devnull = open(os.devnull,'w')\n",
    "        else:\n",
    "            self.devnull = open(file,'w+')\n",
    "        self._stdout = stdout or self.devnull or sys.stdout\n",
    "        self._stderr = stderr or self.devnull or sys.stderr\n",
    "\n",
    "    def __enter__(self):\n",
    "        self.old_stdout, self.old_stderr = sys.stdout, sys.stderr\n",
    "        self.old_stdout.flush(); self.old_stderr.flush()\n",
    "        sys.stdout, sys.stderr = self._stdout, self._stderr\n",
    "\n",
    "    def __exit__(self, exc_type, exc_value, traceback):\n",
    "        self._stdout.flush(); self._stderr.flush()\n",
    "        sys.stdout = self.old_stdout\n",
    "        sys.stderr = self.old_stderr\n",
    "        self.devnull.close()"
   ]
  },
  {
   "cell_type": "code",
   "execution_count": 18,
   "id": "molecular-weapon",
   "metadata": {},
   "outputs": [
    {
     "data": {
      "text/plain": [
       "True"
      ]
     },
     "execution_count": 18,
     "metadata": {},
     "output_type": "execute_result"
    }
   ],
   "source": [
    "def setup_parser_wrapper(project: str) -> bool:\n",
    "    repo=project.split('/')[1]\n",
    "    owner=project.split('/')[0]\n",
    "    branch='master'\n",
    "    \n",
    "    result = None\n",
    "#     if os.path.exists(f\"{REPOS_DIR}/{owner}/{repo}/{branch}/setup.py\"):\n",
    "#         with NoStdStreams(file=f\"{REPOS_DIR}/{owner}/{repo}/{branch}/log.txt\"):\n",
    "#             result = setup_runner(owner=owner,repo=repo, REPOS_DIR=REPOS_DIR)\n",
    "\n",
    "    if os.path.exists(f\"{REPOS_DIR}/{owner}/{repo}/setup.py\"):\n",
    "        with NoStdStreams(file=f\"{REPOS_DIR}/{owner}/{repo}/log.txt\"):\n",
    "            result = setup_runner(owner=owner,repo=repo, REPOS_DIR=REPOS_DIR)\n",
    "        \n",
    "    if result:\n",
    "#         with open(f\"{REPOS_DIR}/{owner}/{repo}/{branch}/requirements-setup.txt\", 'w+') as f:\n",
    "#             f.writelines(s + '\\n' for s in result)  # add \\n\n",
    "        with open(f\"{REPOS_DIR}/{owner}/{repo}/requirements-setup.txt\", 'w+') as f:\n",
    "            f.writelines(s + '\\n' for s in result)  # add \\n\n",
    "        return True\n",
    "    return False\n",
    "\n",
    "setup_parser_wrapper('hall-lab/svtyper')"
   ]
  },
  {
   "cell_type": "code",
   "execution_count": 19,
   "id": "loving-chosen",
   "metadata": {},
   "outputs": [
    {
     "data": {
      "text/plain": [
       "'14279 projects with head vinta/awesome-python'"
      ]
     },
     "execution_count": 19,
     "metadata": {},
     "output_type": "execute_result"
    }
   ],
   "source": [
    "import pandas as pd\n",
    "df_projects_w_requirements = pd.read_csv('data/projects.csv', low_memory=False)\n",
    "projects_w_requirements = df_projects_w_requirements['Name with Owner'].to_list()\n",
    "f\"{len(projects_w_requirements)} projects with head {projects_w_requirements[0]}\""
   ]
  },
  {
   "cell_type": "code",
   "execution_count": null,
   "id": "bizarre-triangle",
   "metadata": {},
   "outputs": [
    {
     "data": {
      "application/vnd.jupyter.widget-view+json": {
       "model_id": "038acd046a7947cba063bf0999e913a6",
       "version_major": 2,
       "version_minor": 0
      },
      "text/plain": [
       "计算进度:   0%|          | 0/14279 [00:00<?, ?it/s]"
      ]
     },
     "metadata": {},
     "output_type": "display_data"
    }
   ],
   "source": [
    "from utils.parallel import parallel\n",
    "from tqdm.notebook import tqdm\n",
    "\n",
    "parallel(setup_parser_wrapper, 8, projects_w_requirements, progress_bar=tqdm, return_df=False)"
   ]
  },
  {
   "cell_type": "code",
   "execution_count": 30,
   "id": "precise-domestic",
   "metadata": {},
   "outputs": [
    {
     "data": {
      "application/vnd.jupyter.widget-view+json": {
       "model_id": "5df378abe5d94fd6818af8c492ede8ae",
       "version_major": 2,
       "version_minor": 0
      },
      "text/plain": [
       "  0%|          | 0/14279 [00:00<?, ?it/s]"
      ]
     },
     "metadata": {},
     "output_type": "display_data"
    }
   ],
   "source": [
    "from tqdm.notebook import tqdm\n",
    "for index, row in tqdm(df_projects_w_requirements.iterrows(), total=len(df_projects_w_requirements)):\n",
    "    project = row['Name with Owner']\n",
    "    repo=project.split('/')[1]\n",
    "    owner=project.split('/')[0]\n",
    "    branch='master'\n",
    "#     if os.path.exists(f\"{REPOS_DIR}/{owner}/{repo}/{branch}/requirements-setup.txt\"):\n",
    "    if os.path.exists(f\"{REPOS_DIR}/{owner}/{repo}/requirements-setup.txt\"):\n",
    "        df_projects_w_requirements.at[index, 'setup_parsed'] = True\n",
    "    else:\n",
    "        df_projects_w_requirements.at[index, 'setup_parsed'] = False\n",
    "    \n",
    "#     if os.path.exists(f\"{REPOS_DIR}/{owner}/{repo}/{branch}/log.txt\"):\n",
    "#         with open(f\"{REPOS_DIR}/{owner}/{repo}/{branch}/log.txt\", 'r') as f:\n",
    "#             df_projects_w_requirements.at[index, 'setup_log'] = '\\n'.join(f.readlines())\n",
    "    if os.path.exists(f\"{REPOS_DIR}/{owner}/{repo}/log.txt\"):\n",
    "        with open(f\"{REPOS_DIR}/{owner}/{repo}/log.txt\", 'r') as f:\n",
    "            df_projects_w_requirements.at[index, 'setup_log'] = '\\n'.join(f.readlines())\n",
    "    else:\n",
    "        row['setup_log'] = ''\n",
    "df_projects_w_requirements.to_csv('data/projects_setup.csv', index=False)"
   ]
  },
  {
   "cell_type": "code",
   "execution_count": 11,
   "id": "dominant-fitness",
   "metadata": {},
   "outputs": [],
   "source": [
    "df_projects_w_requirements = pd.read_csv('data/projects_setup.csv', low_memory=False)"
   ]
  },
  {
   "cell_type": "code",
   "execution_count": 12,
   "id": "forty-spell",
   "metadata": {},
   "outputs": [
    {
     "data": {
      "text/plain": [
       "'10349 projects with head vinta/awesome-python'"
      ]
     },
     "execution_count": 12,
     "metadata": {},
     "output_type": "execute_result"
    }
   ],
   "source": [
    "# retry error projects\n",
    "from utils.parallel import parallel\n",
    "from tqdm.notebook import tqdm\n",
    "\n",
    "df_projects_error = df_projects_w_requirements[(df_projects_w_requirements['setup_parsed'] == False) & (df_projects_w_requirements['setup_log'] != '')]\n",
    "projects_error = df_projects_error['Name with Owner'].to_list()\n",
    "f\"{len(projects_error)} projects with head {projects_error[0]}\""
   ]
  },
  {
   "cell_type": "code",
   "execution_count": null,
   "id": "confused-equity",
   "metadata": {},
   "outputs": [
    {
     "data": {
      "application/vnd.jupyter.widget-view+json": {
       "model_id": "01bf000cb87c416293b302531c2d512f",
       "version_major": 2,
       "version_minor": 0
      },
      "text/plain": [
       "计算进度:   0%|          | 0/10349 [00:00<?, ?it/s]"
      ]
     },
     "metadata": {},
     "output_type": "display_data"
    }
   ],
   "source": [
    "parallel(setup_parser_wrapper, 8, projects_error, progress_bar=tqdm, return_df=False)"
   ]
  },
  {
   "cell_type": "code",
   "execution_count": null,
   "id": "logical-ethnic",
   "metadata": {},
   "outputs": [],
   "source": []
  }
 ],
 "metadata": {
  "kernelspec": {
   "display_name": "Python 3",
   "language": "python",
   "name": "python3"
  },
  "language_info": {
   "codemirror_mode": {
    "name": "ipython",
    "version": 3
   },
   "file_extension": ".py",
   "mimetype": "text/x-python",
   "name": "python",
   "nbconvert_exporter": "python",
   "pygments_lexer": "ipython3",
   "version": "3.8.5"
  }
 },
 "nbformat": 4,
 "nbformat_minor": 5
}
