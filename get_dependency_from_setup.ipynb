{
 "cells": [
  {
   "cell_type": "code",
   "execution_count": 1,
   "id": "monthly-service",
   "metadata": {},
   "outputs": [],
   "source": [
    "import ast\n",
    "import os\n",
    "\n",
    "os.chdir('/data/hrz/LibraryMigrationPy')"
   ]
  },
  {
   "cell_type": "code",
   "execution_count": 2,
   "id": "transsexual-impossible",
   "metadata": {},
   "outputs": [
    {
     "data": {
      "text/plain": [
       "\"Module(body=[Expr(value=Constant(value='\\\\n@author: HJK \\\\n@file: setup.py \\\\n@time: 2019-01-26\\\\n\\\\n打包配置文件\\\\n\\\\n', kind=None)), Import(names=[alias(name='os', asname=None)]), Import(names=[alias(name='sys', asname=None)]), Import(names=[alias(name='setuptools', asname=None)]), If(test=Compare(left=Subscript(value=Attribute(value=Name(id='sys', ctx=Load()), attr='argv', ctx=Load()), slice=Index(value=UnaryOp(op=USub(), operand=Constant(value=1, kind=None))), ctx=Load()), ops=[Eq()], comparators=[Constant(value='publish', kind=None)]), body=[Expr(value=Call(func=Attribute(value=Name(id='os', ctx=Load()), attr='system', ctx=Load()), args=[Constant(value='rm -rf dist', kind=None)], keywords=[])), Expr(value=Call(func=Attribute(value=Name(id='os', ctx=Load()), attr='system', ctx=Load()), args=[Constant(value='python setup.py sdist bdist_wheel', kind=None)], keywords=[])), Expr(value=Call(func=Attribute(value=Name(id='os', ctx=Load()), attr='system', ctx=Load()), args=[Constant(value='twine upload dist/*', kind=None)], keywords=[])), Expr(value=Call(func=Attribute(value=Name(id='sys', ctx=Load()), attr='exit', ctx=Load()), args=[], keywords=[]))], orelse=[]), Expr(value=Call(func=Attribute(value=Name(id='setuptools', ctx=Load()), attr='setup', ctx=Load()), args=[], keywords=[keyword(arg='long_description_content_type', value=Constant(value='text/markdown', kind=None)), keyword(arg='packages', value=Call(func=Attribute(value=Name(id='setuptools', ctx=Load()), attr='find_packages', ctx=Load()), args=[], keywords=[])), keyword(arg='test_suite', value=Constant(value='tests', kind=None)), keyword(arg='entry_points', value=Dict(keys=[Constant(value='console_scripts', kind=None)], values=[List(elts=[Constant(value='music-dl = music_dl.__main__:main', kind=None)], ctx=Load())])), keyword(arg='install_requires', value=List(elts=[Constant(value='requests', kind=None), Constant(value='click', kind=None), Constant(value='pycryptodome', kind=None), Constant(value='prettytable', kind=None)], ctx=Load())), keyword(arg='classifiers', value=List(elts=[Constant(value='Development Status :: 4 - Beta', kind=None), Constant(value='Environment :: Console', kind=None), Constant(value='Intended Audience :: Developers', kind=None), Constant(value='Intended Audience :: End Users/Desktop', kind=None), Constant(value='License :: OSI Approved :: MIT License', kind=None), Constant(value='Operating System :: OS Independent', kind=None), Constant(value='Programming Language :: Python', kind=None), Constant(value='Programming Language :: Python :: 3', kind=None), Constant(value='Programming Language :: Python :: 3 :: Only', kind=None), Constant(value='Programming Language :: Python :: 3.5', kind=None), Constant(value='Programming Language :: Python :: 3.6', kind=None), Constant(value='Programming Language :: Python :: 3.7', kind=None), Constant(value='Topic :: Internet', kind=None), Constant(value='Topic :: Internet :: WWW/HTTP', kind=None), Constant(value='Topic :: Multimedia', kind=None), Constant(value='Topic :: Multimedia :: Sound/Audio', kind=None), Constant(value='Topic :: Utilities', kind=None)], ctx=Load()))]))], type_ignores=[])\""
      ]
     },
     "execution_count": 2,
     "metadata": {},
     "output_type": "execute_result"
    }
   ],
   "source": [
    "with open('setup-test.py', 'r') as f:\n",
    "    tree = ast.parse(f.read())\n",
    "ast.dump(tree)"
   ]
  },
  {
   "cell_type": "code",
   "execution_count": 3,
   "id": "neutral-vatican",
   "metadata": {},
   "outputs": [],
   "source": [
    "# read credentials from config\n",
    "import configparser\n",
    "\n",
    "config = configparser.ConfigParser()\n",
    "if (os.path.exists('config.ini')):\n",
    "    config.read('config.ini')\n",
    "else:\n",
    "    raise Exception('config.ini not found')\n",
    "    \n",
    "try:\n",
    "    github_proxy=config['Proxy']['proxy']\n",
    "except KeyError:\n",
    "    github_proxy= None"
   ]
  },
  {
   "cell_type": "code",
   "execution_count": 4,
   "id": "selected-lawrence",
   "metadata": {},
   "outputs": [],
   "source": [
    "# parse setup.py with ast (deprecated)\n",
    "# developers can do literally anything in setup.py\n",
    "# makes it hard to parse setup.py\n",
    "\n",
    "# import textwrap\n",
    "\n",
    "# def parse_setup(setup_filename):\n",
    "#     \"\"\"Parse setup.py and return args and keywords args to its setup\n",
    "#     function call\n",
    "\n",
    "#     \"\"\"\n",
    "#     mock_setup = textwrap.dedent('''\\\n",
    "#     def setup(*args, **kwargs):\n",
    "#         __setup_calls__.append((args, kwargs))\n",
    "#     ''')\n",
    "#     parsed_mock_setup = ast.parse(mock_setup, filename=setup_filename)\n",
    "#     with open(setup_filename, 'rt') as setup_file:\n",
    "#         parsed = ast.parse(setup_file.read())\n",
    "#         for index, node in enumerate(parsed.body[:]):\n",
    "#             if (\n",
    "#                 not isinstance(node, ast.Expr) or\n",
    "#                 not isinstance(node.value, ast.Call) or\n",
    "#                 node.value.func.value.id != 'setup'\n",
    "#             ):\n",
    "#                 continue\n",
    "#             print(node.value)\n",
    "#             parsed.body[index:index] = parsed_mock_setup.body\n",
    "#             break\n",
    "\n",
    "#     fixed = ast.fix_missing_locations(parsed)\n",
    "#     codeobj = compile(fixed, setup_filename, 'exec')\n",
    "#     local_vars = {}\n",
    "#     global_vars = {'__setup_calls__': []}\n",
    "#     exec(codeobj, global_vars, local_vars)\n",
    "    \n",
    "#     # no setup calls\n",
    "#     if not global_vars['__setup_calls__']:\n",
    "#         return []\n",
    "#     else:\n",
    "#         return global_vars['__setup_calls__'][0]\n",
    "\n",
    "# parse_setup('setup-test.py')"
   ]
  },
  {
   "cell_type": "code",
   "execution_count": 5,
   "id": "intermediate-pacific",
   "metadata": {},
   "outputs": [
    {
     "data": {
      "text/plain": [
       "'/data/hrz/LibraryMigrationPy/repos'"
      ]
     },
     "execution_count": 5,
     "metadata": {},
     "output_type": "execute_result"
    }
   ],
   "source": [
    "os.chdir('/data/hrz/LibraryMigrationPy')\n",
    "REPOS_DIR = 'repos/'\n",
    "if not os.path.exists(REPOS_DIR):\n",
    "    os.mkdir(REPOS_DIR)\n",
    "REPOS_DIR=os.path.abspath(REPOS_DIR)\n",
    "REPOS_DIR"
   ]
  },
  {
   "cell_type": "code",
   "execution_count": 6,
   "id": "racial-asset",
   "metadata": {},
   "outputs": [
    {
     "name": "stderr",
     "output_type": "stream",
     "text": [
      "/home/hrz/miniconda3/lib/python3.8/site-packages/setuptools/dist.py:463: UserWarning: Normalizing 'v0.7.1' to '0.7.1'\n",
      "  warnings.warn(tmpl.format(**locals()))\n"
     ]
    },
    {
     "data": {
      "text/plain": [
       "['pysam>=0.15.0', 'numpy', 'scipy', 'cytoolz>=0.8.2']"
      ]
     },
     "execution_count": 6,
     "metadata": {},
     "output_type": "execute_result"
    }
   ],
   "source": [
    "import os\n",
    "import sys\n",
    "from distutils.core import run_setup\n",
    "from utils.download_from_github import download_file_from_github\n",
    "\n",
    "def setup_runner(owner: str, repo: str, branch='master', setup_file='setup.py', REPOS_DIR='repos/', max_tries=10):\n",
    "    \n",
    "    oldcwd = os.getcwd()\n",
    "    path = os.path.abspath(f'{REPOS_DIR}/{owner}/{repo}/{branch}/')\n",
    "    os.chdir(path)\n",
    "    \n",
    "    result = None\n",
    "    for _ in range(max_tries):\n",
    "        try:\n",
    "            # why run_setup depends on cwd\n",
    "            result = run_setup(setup_file, stop_after=\"init\")\n",
    "            break\n",
    "        except Exception as e:\n",
    "            # file not found, download on demand\n",
    "#             print(f'Missing {owner}/{repo}/{e.filename}, downloading')\n",
    "            if isinstance(e, FileNotFoundError):\n",
    "                download_file_from_github(owner=owner, repo=repo, branch=branch, file=e.filename, \n",
    "                                          proxy=github_proxy, REPOS_DIR=REPOS_DIR)\n",
    "            else:\n",
    "                # fail silently\n",
    "                break\n",
    "                \n",
    "    os.chdir(oldcwd)\n",
    "    assert(os.getcwd() == oldcwd)\n",
    "    return result.install_requires if result else None\n",
    "\n",
    "setup_runner('hall-lab','svtyper', REPOS_DIR=REPOS_DIR)"
   ]
  },
  {
   "cell_type": "code",
   "execution_count": 7,
   "id": "higher-voltage",
   "metadata": {},
   "outputs": [],
   "source": [
    "# ref: https://codereview.stackexchange.com/questions/25417/\n",
    "# to install silently\n",
    "class NoStdStreams(object):\n",
    "    def __init__(self,stdout = None, stderr = None):\n",
    "        self.devnull = open(os.devnull,'w')\n",
    "        self._stdout = stdout or self.devnull or sys.stdout\n",
    "        self._stderr = stderr or self.devnull or sys.stderr\n",
    "\n",
    "    def __enter__(self):\n",
    "        self.old_stdout, self.old_stderr = sys.stdout, sys.stderr\n",
    "        self.old_stdout.flush(); self.old_stderr.flush()\n",
    "        sys.stdout, sys.stderr = self._stdout, self._stderr\n",
    "\n",
    "    def __exit__(self, exc_type, exc_value, traceback):\n",
    "        self._stdout.flush(); self._stderr.flush()\n",
    "        sys.stdout = self.old_stdout\n",
    "        sys.stderr = self.old_stderr\n",
    "        self.devnull.close()"
   ]
  },
  {
   "cell_type": "code",
   "execution_count": 8,
   "id": "extraordinary-reasoning",
   "metadata": {},
   "outputs": [
    {
     "data": {
      "text/plain": [
       "True"
      ]
     },
     "execution_count": 8,
     "metadata": {},
     "output_type": "execute_result"
    }
   ],
   "source": [
    "def setup_parser_wrapper(project: str) -> bool:\n",
    "    repo=project.split('/')[1]\n",
    "    owner=project.split('/')[0]\n",
    "    branch='master'\n",
    "    \n",
    "    result = None\n",
    "    if os.path.exists(f\"{REPOS_DIR}/{owner}/{repo}/{branch}/setup.py\"):\n",
    "        with NoStdStreams():\n",
    "            result = setup_runner(owner=owner,repo=repo, REPOS_DIR=REPOS_DIR)\n",
    "        \n",
    "    if result:\n",
    "        with open(f\"{REPOS_DIR}/{owner}/{repo}/{branch}/requirements-setup.txt\", 'w+') as f:\n",
    "            f.writelines(s + '\\n' for s in result)  # add \\n\n",
    "        return True\n",
    "    return False\n",
    "\n",
    "setup_parser_wrapper('hall-lab/svtyper')"
   ]
  },
  {
   "cell_type": "code",
   "execution_count": 9,
   "id": "sustained-kelly",
   "metadata": {},
   "outputs": [
    {
     "data": {
      "text/plain": [
       "'14279 projects with head vinta/awesome-python'"
      ]
     },
     "execution_count": 9,
     "metadata": {},
     "output_type": "execute_result"
    }
   ],
   "source": [
    "import pandas as pd\n",
    "df_projects_w_requirements = pd.read_csv('data/projects.csv', low_memory=False)\n",
    "projects_w_requirements = df_projects_w_requirements['Name with Owner'].to_list()\n",
    "f\"{len(projects_w_requirements)} projects with head {projects_w_requirements[0]}\""
   ]
  },
  {
   "cell_type": "code",
   "execution_count": null,
   "id": "acting-frederick",
   "metadata": {},
   "outputs": [
    {
     "data": {
      "application/vnd.jupyter.widget-view+json": {
       "model_id": "739bf135d4024d01b8c32444f9d4f12d",
       "version_major": 2,
       "version_minor": 0
      },
      "text/plain": [
       "计算进度:   0%|          | 0/14279 [00:00<?, ?it/s]"
      ]
     },
     "metadata": {},
     "output_type": "display_data"
    },
    {
     "name": "stderr",
     "output_type": "stream",
     "text": [
      "IOPub message rate exceeded.\n",
      "The Jupyter server will temporarily stop sending output\n",
      "to the client in order to avoid crashing it.\n",
      "To change this limit, set the config variable\n",
      "`--ServerApp.iopub_msg_rate_limit`.\n",
      "\n",
      "Current values:\n",
      "ServerApp.iopub_msg_rate_limit=1000.0 (msgs/sec)\n",
      "ServerApp.rate_limit_window=3.0 (secs)\n",
      "\n",
      "IOPub message rate exceeded.\n",
      "The Jupyter server will temporarily stop sending output\n",
      "to the client in order to avoid crashing it.\n",
      "To change this limit, set the config variable\n",
      "`--ServerApp.iopub_msg_rate_limit`.\n",
      "\n",
      "Current values:\n",
      "ServerApp.iopub_msg_rate_limit=1000.0 (msgs/sec)\n",
      "ServerApp.rate_limit_window=3.0 (secs)\n",
      "\n",
      "IOPub message rate exceeded.\n",
      "The Jupyter server will temporarily stop sending output\n",
      "to the client in order to avoid crashing it.\n",
      "To change this limit, set the config variable\n",
      "`--ServerApp.iopub_msg_rate_limit`.\n",
      "\n",
      "Current values:\n",
      "ServerApp.iopub_msg_rate_limit=1000.0 (msgs/sec)\n",
      "ServerApp.rate_limit_window=3.0 (secs)\n",
      "\n",
      "IOPub message rate exceeded.\n",
      "The Jupyter server will temporarily stop sending output\n",
      "to the client in order to avoid crashing it.\n",
      "To change this limit, set the config variable\n",
      "`--ServerApp.iopub_msg_rate_limit`.\n",
      "\n",
      "Current values:\n",
      "ServerApp.iopub_msg_rate_limit=1000.0 (msgs/sec)\n",
      "ServerApp.rate_limit_window=3.0 (secs)\n",
      "\n"
     ]
    }
   ],
   "source": [
    "from utils.parallel import parallel\n",
    "from tqdm.notebook import tqdm\n",
    "\n",
    "parallel(setup_parser_wrapper, 8, projects_w_requirements, progress_bar=tqdm, return_df=False)"
   ]
  },
  {
   "cell_type": "code",
   "execution_count": null,
   "id": "sustained-watch",
   "metadata": {},
   "outputs": [],
   "source": [
    "for row in df_projects_w_requirements.iterrows():\n",
    "    project = row['Name with Owner']\n",
    "    repo=project.split('/')[1]\n",
    "    owner=project.split('/')[0]\n",
    "    branch='master'\n",
    "    if os.path.exists(f\"{REPOS_DIR}/{owner}/{repo}/{branch}/requirements-setup.txt\"):\n",
    "        row['setup_parsed'] = True\n",
    "    else:\n",
    "        row['setup_parsed'] = False\n",
    "df_projects_w_requirements"
   ]
  },
  {
   "cell_type": "code",
   "execution_count": null,
   "id": "asian-communication",
   "metadata": {},
   "outputs": [],
   "source": [
    "df_projects_w_requirements.to_csv('data/projects.csv', index=False)"
   ]
  },
  {
   "cell_type": "code",
   "execution_count": null,
   "id": "executed-treatment",
   "metadata": {},
   "outputs": [],
   "source": []
  }
 ],
 "metadata": {
  "kernelspec": {
   "display_name": "Python 3",
   "language": "python",
   "name": "python3"
  },
  "language_info": {
   "codemirror_mode": {
    "name": "ipython",
    "version": 3
   },
   "file_extension": ".py",
   "mimetype": "text/x-python",
   "name": "python",
   "nbconvert_exporter": "python",
   "pygments_lexer": "ipython3",
   "version": "3.8.5"
  }
 },
 "nbformat": 4,
 "nbformat_minor": 5
}
