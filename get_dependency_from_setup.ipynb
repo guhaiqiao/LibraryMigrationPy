{
 "cells": [
  {
   "cell_type": "code",
   "execution_count": 1,
   "id": "virtual-conflict",
   "metadata": {},
   "outputs": [],
   "source": [
    "import ast\n",
    "import os"
   ]
  },
  {
   "cell_type": "code",
   "execution_count": 16,
   "id": "attached-engine",
   "metadata": {},
   "outputs": [
    {
     "data": {
      "text/plain": [
       "'Module(body=[], type_ignores=[])'"
      ]
     },
     "execution_count": 16,
     "metadata": {},
     "output_type": "execute_result"
    }
   ],
   "source": [
    "with open('setup-test.py', 'r') as f:\n",
    "    tree = ast.parse(f.read())\n",
    "ast.dump(tree)"
   ]
  },
  {
   "cell_type": "code",
   "execution_count": 7,
   "id": "working-fields",
   "metadata": {},
   "outputs": [],
   "source": [
    "# read credentials from config\n",
    "import configparser\n",
    "\n",
    "config = configparser.ConfigParser()\n",
    "if (os.path.exists('config.ini')):\n",
    "    config.read('config.ini')\n",
    "else:\n",
    "    raise Exception('config.ini not found')\n",
    "    \n",
    "try:\n",
    "    github_proxy=config['Proxy']['proxy']\n",
    "except KeyError:\n",
    "    github_proxy= None"
   ]
  },
  {
   "cell_type": "code",
   "execution_count": 30,
   "id": "growing-ending",
   "metadata": {},
   "outputs": [],
   "source": [
    "# # parse setup.py with ast (deprecated)\n",
    "# # developers can do literally anything in setup.py\n",
    "# # makes it hard to parse setup.py\n",
    "\n",
    "# import textwrap\n",
    "\n",
    "# def parse_setup(setup_filename):\n",
    "#     \"\"\"Parse setup.py and return args and keywords args to its setup\n",
    "#     function call\n",
    "\n",
    "#     \"\"\"\n",
    "#     mock_setup = textwrap.dedent('''\\\n",
    "#     def setup(*args, **kwargs):\n",
    "#         __setup_calls__.append((args, kwargs))\n",
    "#     ''')\n",
    "#     parsed_mock_setup = ast.parse(mock_setup, filename=setup_filename)\n",
    "#     with open(setup_filename, 'rt') as setup_file:\n",
    "#         parsed = ast.parse(setup_file.read())\n",
    "#         for index, node in enumerate(parsed.body[:]):\n",
    "#             if (\n",
    "#                 not isinstance(node, ast.Expr) or\n",
    "#                 not isinstance(node.value, ast.Call) \n",
    "#                 node.value.func.name != 'setup'\n",
    "#             ):\n",
    "#                 continue\n",
    "#             print(node.value)\n",
    "#             parsed.body[index:index] = parsed_mock_setup.body\n",
    "#             break\n",
    "\n",
    "#     fixed = ast.fix_missing_locations(parsed)\n",
    "#     codeobj = compile(fixed, setup_filename, 'exec')\n",
    "#     local_vars = {}\n",
    "#     global_vars = {'__setup_calls__': []}\n",
    "#     exec(codeobj, global_vars, local_vars)\n",
    "    \n",
    "#     # no setup calls\n",
    "#     if not global_vars['__setup_calls__']:\n",
    "#         return []\n",
    "#     else:\n",
    "#         return global_vars['__setup_calls__'][0]\n",
    "\n",
    "# parse_setup('setup-test.py')"
   ]
  },
  {
   "cell_type": "code",
   "execution_count": null,
   "id": "refined-green",
   "metadata": {},
   "outputs": [],
   "source": [
    "REPOS_DIR = 'repos/'\n",
    "if not os.path.exists(REPOS_DIR):\n",
    "    os.mkdir(REPOS_DIR)"
   ]
  },
  {
   "cell_type": "code",
   "execution_count": 15,
   "id": "color-connection",
   "metadata": {},
   "outputs": [
    {
     "name": "stdout",
     "output_type": "stream",
     "text": [
      "Missing hall-lab/svtyper/setup.py, downloading\n",
      "Missing hall-lab/svtyper/README.md, downloading\n",
      "Missing hall-lab/svtyper/svtyper/version.py, downloading\n"
     ]
    },
    {
     "ename": "FileNotFoundError",
     "evalue": "[Errno 2] No such file or directory: 'repos//hall-lab/svtyper/master/svtyper/version.py'",
     "output_type": "error",
     "traceback": [
      "\u001b[0;31m---------------------------------------------------------------------------\u001b[0m",
      "\u001b[0;31mFileNotFoundError\u001b[0m                         Traceback (most recent call last)",
      "\u001b[0;32m<ipython-input-15-119634205dce>\u001b[0m in \u001b[0;36msetup_runner\u001b[0;34m(owner, repo, branch, setup_file, REPOS_DIR, max_tries)\u001b[0m\n\u001b[1;32m     14\u001b[0m             \u001b[0mos\u001b[0m\u001b[0;34m.\u001b[0m\u001b[0mchdir\u001b[0m\u001b[0;34m(\u001b[0m\u001b[0mpath\u001b[0m\u001b[0;34m)\u001b[0m\u001b[0;34m\u001b[0m\u001b[0;34m\u001b[0m\u001b[0m\n\u001b[0;32m---> 15\u001b[0;31m             \u001b[0mresult\u001b[0m \u001b[0;34m=\u001b[0m \u001b[0mrun_setup\u001b[0m\u001b[0;34m(\u001b[0m\u001b[0msetup_file\u001b[0m\u001b[0;34m,\u001b[0m \u001b[0mstop_after\u001b[0m\u001b[0;34m=\u001b[0m\u001b[0;34m\"init\"\u001b[0m\u001b[0;34m)\u001b[0m\u001b[0;34m\u001b[0m\u001b[0;34m\u001b[0m\u001b[0m\n\u001b[0m\u001b[1;32m     16\u001b[0m             \u001b[0;32mbreak\u001b[0m\u001b[0;34m\u001b[0m\u001b[0;34m\u001b[0m\u001b[0m\n",
      "\u001b[0;32m~/miniconda3/lib/python3.8/distutils/core.py\u001b[0m in \u001b[0;36mrun_setup\u001b[0;34m(script_name, script_args, stop_after)\u001b[0m\n\u001b[1;32m    214\u001b[0m             \u001b[0;32mwith\u001b[0m \u001b[0mopen\u001b[0m\u001b[0;34m(\u001b[0m\u001b[0mscript_name\u001b[0m\u001b[0;34m,\u001b[0m \u001b[0;34m'rb'\u001b[0m\u001b[0;34m)\u001b[0m \u001b[0;32mas\u001b[0m \u001b[0mf\u001b[0m\u001b[0;34m:\u001b[0m\u001b[0;34m\u001b[0m\u001b[0;34m\u001b[0m\u001b[0m\n\u001b[0;32m--> 215\u001b[0;31m                 \u001b[0mexec\u001b[0m\u001b[0;34m(\u001b[0m\u001b[0mf\u001b[0m\u001b[0;34m.\u001b[0m\u001b[0mread\u001b[0m\u001b[0;34m(\u001b[0m\u001b[0;34m)\u001b[0m\u001b[0;34m,\u001b[0m \u001b[0mg\u001b[0m\u001b[0;34m)\u001b[0m\u001b[0;34m\u001b[0m\u001b[0;34m\u001b[0m\u001b[0m\n\u001b[0m\u001b[1;32m    216\u001b[0m         \u001b[0;32mfinally\u001b[0m\u001b[0;34m:\u001b[0m\u001b[0;34m\u001b[0m\u001b[0;34m\u001b[0m\u001b[0m\n",
      "\u001b[0;32m/data/hrz/LibraryMigrationPy/repos/hall-lab/svtyper/master/setup.py\u001b[0m in \u001b[0;36m<module>\u001b[0;34m\u001b[0m\n",
      "\u001b[0;31mFileNotFoundError\u001b[0m: [Errno 2] No such file or directory: 'svtyper/version.py'",
      "\nDuring handling of the above exception, another exception occurred:\n",
      "\u001b[0;31mFileNotFoundError\u001b[0m                         Traceback (most recent call last)",
      "\u001b[0;32m<ipython-input-15-119634205dce>\u001b[0m in \u001b[0;36m<module>\u001b[0;34m\u001b[0m\n\u001b[1;32m     25\u001b[0m     \u001b[0;32mreturn\u001b[0m \u001b[0mresult\u001b[0m\u001b[0;34m.\u001b[0m\u001b[0minstall_requires\u001b[0m \u001b[0;32mif\u001b[0m \u001b[0mresult\u001b[0m \u001b[0;32melse\u001b[0m \u001b[0;32mNone\u001b[0m\u001b[0;34m\u001b[0m\u001b[0;34m\u001b[0m\u001b[0m\n\u001b[1;32m     26\u001b[0m \u001b[0;34m\u001b[0m\u001b[0m\n\u001b[0;32m---> 27\u001b[0;31m \u001b[0msetup_runner\u001b[0m\u001b[0;34m(\u001b[0m\u001b[0;34m'hall-lab'\u001b[0m\u001b[0;34m,\u001b[0m\u001b[0;34m'svtyper'\u001b[0m\u001b[0;34m)\u001b[0m\u001b[0;34m\u001b[0m\u001b[0;34m\u001b[0m\u001b[0m\n\u001b[0m",
      "\u001b[0;32m<ipython-input-15-119634205dce>\u001b[0m in \u001b[0;36msetup_runner\u001b[0;34m(owner, repo, branch, setup_file, REPOS_DIR, max_tries)\u001b[0m\n\u001b[1;32m     19\u001b[0m             \u001b[0;31m# download on demand\u001b[0m\u001b[0;34m\u001b[0m\u001b[0;34m\u001b[0m\u001b[0;34m\u001b[0m\u001b[0m\n\u001b[1;32m     20\u001b[0m             \u001b[0mprint\u001b[0m\u001b[0;34m(\u001b[0m\u001b[0;34mf'Missing {owner}/{repo}/{e.filename}, downloading'\u001b[0m\u001b[0;34m)\u001b[0m\u001b[0;34m\u001b[0m\u001b[0;34m\u001b[0m\u001b[0m\n\u001b[0;32m---> 21\u001b[0;31m             \u001b[0mdownload_file_from_github\u001b[0m\u001b[0;34m(\u001b[0m\u001b[0mowner\u001b[0m\u001b[0;34m=\u001b[0m\u001b[0mowner\u001b[0m\u001b[0;34m,\u001b[0m \u001b[0mrepo\u001b[0m\u001b[0;34m=\u001b[0m\u001b[0mrepo\u001b[0m\u001b[0;34m,\u001b[0m \u001b[0mbranch\u001b[0m\u001b[0;34m=\u001b[0m\u001b[0mbranch\u001b[0m\u001b[0;34m,\u001b[0m \u001b[0mfile\u001b[0m\u001b[0;34m=\u001b[0m\u001b[0me\u001b[0m\u001b[0;34m.\u001b[0m\u001b[0mfilename\u001b[0m\u001b[0;34m,\u001b[0m \u001b[0mproxy\u001b[0m\u001b[0;34m=\u001b[0m\u001b[0mgithub_proxy\u001b[0m\u001b[0;34m)\u001b[0m\u001b[0;34m\u001b[0m\u001b[0;34m\u001b[0m\u001b[0m\n\u001b[0m\u001b[1;32m     22\u001b[0m \u001b[0;34m\u001b[0m\u001b[0m\n\u001b[1;32m     23\u001b[0m     \u001b[0mos\u001b[0m\u001b[0;34m.\u001b[0m\u001b[0mchdir\u001b[0m\u001b[0;34m(\u001b[0m\u001b[0mcwd\u001b[0m\u001b[0;34m)\u001b[0m\u001b[0;34m\u001b[0m\u001b[0;34m\u001b[0m\u001b[0m\n",
      "\u001b[0;32m/data/hrz/LibraryMigrationPy/utils/download_from_github.py\u001b[0m in \u001b[0;36mdownload_file_from_github\u001b[0;34m(owner, repo, branch, file, overwrite, proxy, REPOS_DIR)\u001b[0m\n\u001b[1;32m     43\u001b[0m         \u001b[0;32mreturn\u001b[0m \u001b[0;32mFalse\u001b[0m\u001b[0;34m\u001b[0m\u001b[0;34m\u001b[0m\u001b[0m\n\u001b[1;32m     44\u001b[0m \u001b[0;34m\u001b[0m\u001b[0m\n\u001b[0;32m---> 45\u001b[0;31m     \u001b[0;32mwith\u001b[0m \u001b[0mopen\u001b[0m\u001b[0;34m(\u001b[0m\u001b[0;34mf\"{REPOS_DIR}/{owner}/{repo}/{branch}/{file}\"\u001b[0m\u001b[0;34m,\u001b[0m \u001b[0;34m'w+'\u001b[0m\u001b[0;34m)\u001b[0m \u001b[0;32mas\u001b[0m \u001b[0mf\u001b[0m\u001b[0;34m:\u001b[0m\u001b[0;34m\u001b[0m\u001b[0;34m\u001b[0m\u001b[0m\n\u001b[0m\u001b[1;32m     46\u001b[0m         \u001b[0mf\u001b[0m\u001b[0;34m.\u001b[0m\u001b[0mwrite\u001b[0m\u001b[0;34m(\u001b[0m\u001b[0mr\u001b[0m\u001b[0;34m.\u001b[0m\u001b[0mtext\u001b[0m\u001b[0;34m)\u001b[0m\u001b[0;34m\u001b[0m\u001b[0;34m\u001b[0m\u001b[0m\n\u001b[1;32m     47\u001b[0m \u001b[0;34m\u001b[0m\u001b[0m\n",
      "\u001b[0;31mFileNotFoundError\u001b[0m: [Errno 2] No such file or directory: 'repos//hall-lab/svtyper/master/svtyper/version.py'"
     ]
    }
   ],
   "source": [
    "import os\n",
    "from distutils.core import run_setup\n",
    "from utils.download_from_github import download_file_from_github\n",
    "\n",
    "def setup_runner(owner: str, repo: str, branch='master', setup_file='setup.py', REPOS_DIR='repos/', max_tries=3):\n",
    "\n",
    "    path = os.path.abspath(f'{REPOS_DIR}/{owner}/{repo}/{branch}/')\n",
    "    cwd = os.getcwd()\n",
    "    \n",
    "    result = None\n",
    "    \n",
    "    for _ in range(max_tries):\n",
    "        try:\n",
    "            os.chdir(path)\n",
    "            result = run_setup(setup_file, stop_after=\"init\")\n",
    "            break\n",
    "        except FileNotFoundError as e:\n",
    "            os.chdir(cwd)\n",
    "            # download on demand\n",
    "            print(f'Missing {owner}/{repo}/{e.filename}, downloading')\n",
    "            download_file_from_github(owner=owner, repo=repo, branch=branch, file=e.filename, proxy=github_proxy)\n",
    "    \n",
    "    os.chdir(cwd)\n",
    "    \n",
    "    return result.install_requires if result else None\n",
    "\n",
    "setup_runner('hall-lab','svtyper')"
   ]
  },
  {
   "cell_type": "code",
   "execution_count": 12,
   "id": "pretty-monkey",
   "metadata": {},
   "outputs": [
    {
     "ename": "FileNotFoundError",
     "evalue": "[Errno 2] No such file or directory: 'README.md'",
     "output_type": "error",
     "traceback": [
      "\u001b[0;31m---------------------------------------------------------------------------\u001b[0m",
      "\u001b[0;31mFileNotFoundError\u001b[0m                         Traceback (most recent call last)",
      "\u001b[0;32m<ipython-input-12-85615c4761d7>\u001b[0m in \u001b[0;36m<module>\u001b[0;34m\u001b[0m\n\u001b[1;32m      1\u001b[0m \u001b[0;32mimport\u001b[0m \u001b[0msys\u001b[0m\u001b[0;34m\u001b[0m\u001b[0;34m\u001b[0m\u001b[0m\n\u001b[0;32m----> 2\u001b[0;31m \u001b[0mrun_setup\u001b[0m\u001b[0;34m(\u001b[0m\u001b[0;34m'repos/hall-lab/svtyper/master/setup.py'\u001b[0m\u001b[0;34m,\u001b[0m \u001b[0mscript_args\u001b[0m\u001b[0;34m=\u001b[0m\u001b[0msys\u001b[0m\u001b[0;34m.\u001b[0m\u001b[0margv\u001b[0m\u001b[0;34m[\u001b[0m\u001b[0;36m1\u001b[0m\u001b[0;34m:\u001b[0m\u001b[0;34m]\u001b[0m\u001b[0;34m,\u001b[0m \u001b[0mstop_after\u001b[0m\u001b[0;34m=\u001b[0m\u001b[0;34m\"init\"\u001b[0m\u001b[0;34m)\u001b[0m\u001b[0;34m\u001b[0m\u001b[0;34m\u001b[0m\u001b[0m\n\u001b[0m",
      "\u001b[0;32m~/miniconda3/lib/python3.8/distutils/core.py\u001b[0m in \u001b[0;36mrun_setup\u001b[0;34m(script_name, script_args, stop_after)\u001b[0m\n\u001b[1;32m    213\u001b[0m                 \u001b[0msys\u001b[0m\u001b[0;34m.\u001b[0m\u001b[0margv\u001b[0m\u001b[0;34m[\u001b[0m\u001b[0;36m1\u001b[0m\u001b[0;34m:\u001b[0m\u001b[0;34m]\u001b[0m \u001b[0;34m=\u001b[0m \u001b[0mscript_args\u001b[0m\u001b[0;34m\u001b[0m\u001b[0;34m\u001b[0m\u001b[0m\n\u001b[1;32m    214\u001b[0m             \u001b[0;32mwith\u001b[0m \u001b[0mopen\u001b[0m\u001b[0;34m(\u001b[0m\u001b[0mscript_name\u001b[0m\u001b[0;34m,\u001b[0m \u001b[0;34m'rb'\u001b[0m\u001b[0;34m)\u001b[0m \u001b[0;32mas\u001b[0m \u001b[0mf\u001b[0m\u001b[0;34m:\u001b[0m\u001b[0;34m\u001b[0m\u001b[0;34m\u001b[0m\u001b[0m\n\u001b[0;32m--> 215\u001b[0;31m                 \u001b[0mexec\u001b[0m\u001b[0;34m(\u001b[0m\u001b[0mf\u001b[0m\u001b[0;34m.\u001b[0m\u001b[0mread\u001b[0m\u001b[0;34m(\u001b[0m\u001b[0;34m)\u001b[0m\u001b[0;34m,\u001b[0m \u001b[0mg\u001b[0m\u001b[0;34m)\u001b[0m\u001b[0;34m\u001b[0m\u001b[0;34m\u001b[0m\u001b[0m\n\u001b[0m\u001b[1;32m    216\u001b[0m         \u001b[0;32mfinally\u001b[0m\u001b[0;34m:\u001b[0m\u001b[0;34m\u001b[0m\u001b[0;34m\u001b[0m\u001b[0m\n\u001b[1;32m    217\u001b[0m             \u001b[0msys\u001b[0m\u001b[0;34m.\u001b[0m\u001b[0margv\u001b[0m \u001b[0;34m=\u001b[0m \u001b[0msave_argv\u001b[0m\u001b[0;34m\u001b[0m\u001b[0;34m\u001b[0m\u001b[0m\n",
      "\u001b[0;32m/data/hrz/LibraryMigrationPy/repos/hall-lab/svtyper/master/setup.py\u001b[0m in \u001b[0;36m<module>\u001b[0;34m\u001b[0m\n",
      "\u001b[0;31mFileNotFoundError\u001b[0m: [Errno 2] No such file or directory: 'README.md'"
     ]
    }
   ],
   "source": []
  },
  {
   "cell_type": "code",
   "execution_count": null,
   "id": "mineral-litigation",
   "metadata": {},
   "outputs": [],
   "source": []
  }
 ],
 "metadata": {
  "kernelspec": {
   "display_name": "Python 3",
   "language": "python",
   "name": "python3"
  },
  "language_info": {
   "codemirror_mode": {
    "name": "ipython",
    "version": 3
   },
   "file_extension": ".py",
   "mimetype": "text/x-python",
   "name": "python",
   "nbconvert_exporter": "python",
   "pygments_lexer": "ipython3",
   "version": "3.8.5"
  }
 },
 "nbformat": 4,
 "nbformat_minor": 5
}
