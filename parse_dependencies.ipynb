{
 "cells": [
  {
   "cell_type": "code",
   "execution_count": null,
   "id": "racial-runner",
   "metadata": {},
   "outputs": [],
   "source": [
    "# dependency parser for python packages\n",
    "# 12f23eddde <rzhe@pku.edu.cn> - Apr 10 2021"
   ]
  },
  {
   "cell_type": "code",
   "execution_count": 40,
   "id": "adjusted-davis",
   "metadata": {},
   "outputs": [
    {
     "data": {
      "text/plain": [
       "'1.1.1rc2'"
      ]
     },
     "execution_count": 40,
     "metadata": {},
     "output_type": "execute_result"
    }
   ],
   "source": [
    "# standard pythonic way of parsing version string\n",
    "from packaging import version\n",
    "\n",
    "def parse_version_string(ver: str) -> str:\n",
    "    res = version.parse(ver)\n",
    "    # LegacyVersion -> parse failed\n",
    "    if(isinstance(res, version.LegacyVersion)):\n",
    "        return ''\n",
    "    return (str)(res)\n",
    "\n",
    "parse_version_string('v1.1.1-rc2')"
   ]
  },
  {
   "cell_type": "code",
   "execution_count": 60,
   "id": "constitutional-employee",
   "metadata": {},
   "outputs": [],
   "source": [
    "import os\n",
    "REPOS_DIR = 'repos_50/'\n",
    "if not os.path.exists(REPOS_DIR):\n",
    "    os.mkdir(REPOS_DIR)\n",
    "REPOS_DIR = os.path.abspath(REPOS_DIR)"
   ]
  },
  {
   "cell_type": "code",
   "execution_count": 81,
   "id": "cleared-breed",
   "metadata": {},
   "outputs": [],
   "source": [
    "# ref: https://gitpython.readthedocs.io/en/stable/reference.html?highlight=tag#module-git.refs.tag\n",
    "from git.refs import tag\n",
    "from git import Repo\n",
    "\n",
    "# seems to work (only used for testing)\n",
    "def count_tags(owner: str, repo: str, branch='master'):\n",
    "    repo = Repo(f'{REPOS_DIR}/{owner}/{repo}/{branch}')\n",
    "#     repo = Repo(f'{REPOS_DIR}/{owner}/{repo}/')\n",
    "    tagrefs = tag.TagReference.list_items(repo)\n",
    "    original_tags = []\n",
    "    parsed_tags = []\n",
    "    for tagref in tagrefs:\n",
    "        tagstr = (str)(tagref).replace('refs/tags/', '')\n",
    "        # tagged date > commit date (if tag date exists)\n",
    "#         if tagref.tag:\n",
    "#             print('tag',tagref.tag.tagged_date, 'commit',tagref.commit.committed_date)\n",
    "        parsed_tag = parse_version_string(tagstr)\n",
    "        # append tag only when its name satisfies PEP 440\n",
    "        # ref: https://packaging.pypa.io/en/latest/version.html\n",
    "        if parsed_tag:\n",
    "            original_tags.append(tagstr)\n",
    "            parsed_tags.append(parsed_tag)\n",
    "    return len(parsed_tags), len(tagrefs)"
   ]
  },
  {
   "cell_type": "code",
   "execution_count": 101,
   "id": "refined-divide",
   "metadata": {},
   "outputs": [
    {
     "data": {
      "text/plain": [
       "'28675 projects with head donnemartin/system-design-primer'"
      ]
     },
     "execution_count": 101,
     "metadata": {},
     "output_type": "execute_result"
    }
   ],
   "source": [
    "import pandas as pd\n",
    "df_projects_w_requirements = pd.read_csv('data/projects_setup.csv', low_memory=False)\n",
    "projects_w_requirements = df_projects_w_requirements['Name with Owner'].to_list()\n",
    "f\"{len(projects_w_requirements)} projects with head {projects_w_requirements[0]}\""
   ]
  },
  {
   "cell_type": "code",
   "execution_count": 102,
   "id": "through-mistress",
   "metadata": {},
   "outputs": [
    {
     "data": {
      "application/vnd.jupyter.widget-view+json": {
       "model_id": "f5ddf3b7d72641fab7edf039d3cc473a",
       "version_major": 2,
       "version_minor": 0
      },
      "text/plain": [
       "  0%|          | 0/28675 [00:00<?, ?it/s]"
      ]
     },
     "metadata": {},
     "output_type": "display_data"
    }
   ],
   "source": [
    "from tqdm.auto import tqdm\n",
    "import git\n",
    "for index, row in tqdm(df_projects_w_requirements.iterrows(), total=len(df_projects_w_requirements)):\n",
    "    repo = row['Name with Owner'].split('/')[1]\n",
    "    owner = row['Name with Owner'].split('/')[0]\n",
    "    try:\n",
    "        len1, len2 = count_tags(owner=owner, repo=repo)\n",
    "        df_projects_w_requirements.at[index, 'parsed_tags'] = len1\n",
    "        df_projects_w_requirements.at[index, 'original_tags'] = len2\n",
    "    except Exception:\n",
    "        pass"
   ]
  },
  {
   "cell_type": "code",
   "execution_count": 103,
   "id": "coordinate-cover",
   "metadata": {},
   "outputs": [
    {
     "data": {
      "text/html": [
       "<div>\n",
       "<style scoped>\n",
       "    .dataframe tbody tr th:only-of-type {\n",
       "        vertical-align: middle;\n",
       "    }\n",
       "\n",
       "    .dataframe tbody tr th {\n",
       "        vertical-align: top;\n",
       "    }\n",
       "\n",
       "    .dataframe thead th {\n",
       "        text-align: right;\n",
       "    }\n",
       "</style>\n",
       "<table border=\"1\" class=\"dataframe\">\n",
       "  <thead>\n",
       "    <tr style=\"text-align: right;\">\n",
       "      <th></th>\n",
       "      <th>Name with Owner</th>\n",
       "      <th>setup_parsed</th>\n",
       "      <th>setup_log</th>\n",
       "      <th>setup_exists</th>\n",
       "      <th>requirements_exists</th>\n",
       "      <th>parsed_tags</th>\n",
       "      <th>original_tags</th>\n",
       "    </tr>\n",
       "  </thead>\n",
       "  <tbody>\n",
       "    <tr>\n",
       "      <th>0</th>\n",
       "      <td>donnemartin/system-design-primer</td>\n",
       "      <td>False</td>\n",
       "      <td>NaN</td>\n",
       "      <td>False</td>\n",
       "      <td>False</td>\n",
       "      <td>0.0</td>\n",
       "      <td>0.0</td>\n",
       "    </tr>\n",
       "    <tr>\n",
       "      <th>1</th>\n",
       "      <td>vinta/awesome-python</td>\n",
       "      <td>False</td>\n",
       "      <td>NaN</td>\n",
       "      <td>False</td>\n",
       "      <td>True</td>\n",
       "      <td>0.0</td>\n",
       "      <td>0.0</td>\n",
       "    </tr>\n",
       "    <tr>\n",
       "      <th>2</th>\n",
       "      <td>TheAlgorithms/Python</td>\n",
       "      <td>False</td>\n",
       "      <td>NaN</td>\n",
       "      <td>False</td>\n",
       "      <td>True</td>\n",
       "      <td>0.0</td>\n",
       "      <td>0.0</td>\n",
       "    </tr>\n",
       "    <tr>\n",
       "      <th>3</th>\n",
       "      <td>public-apis/public-apis</td>\n",
       "      <td>False</td>\n",
       "      <td>NaN</td>\n",
       "      <td>False</td>\n",
       "      <td>False</td>\n",
       "      <td>0.0</td>\n",
       "      <td>0.0</td>\n",
       "    </tr>\n",
       "    <tr>\n",
       "      <th>4</th>\n",
       "      <td>tensorflow/models</td>\n",
       "      <td>False</td>\n",
       "      <td>NaN</td>\n",
       "      <td>False</td>\n",
       "      <td>False</td>\n",
       "      <td>15.0</td>\n",
       "      <td>16.0</td>\n",
       "    </tr>\n",
       "    <tr>\n",
       "      <th>...</th>\n",
       "      <td>...</td>\n",
       "      <td>...</td>\n",
       "      <td>...</td>\n",
       "      <td>...</td>\n",
       "      <td>...</td>\n",
       "      <td>...</td>\n",
       "      <td>...</td>\n",
       "    </tr>\n",
       "    <tr>\n",
       "      <th>28670</th>\n",
       "      <td>cybercdh/phishfinder</td>\n",
       "      <td>False</td>\n",
       "      <td>NaN</td>\n",
       "      <td>False</td>\n",
       "      <td>True</td>\n",
       "      <td>0.0</td>\n",
       "      <td>0.0</td>\n",
       "    </tr>\n",
       "    <tr>\n",
       "      <th>28671</th>\n",
       "      <td>nlpdata/dream</td>\n",
       "      <td>False</td>\n",
       "      <td>NaN</td>\n",
       "      <td>False</td>\n",
       "      <td>False</td>\n",
       "      <td>0.0</td>\n",
       "      <td>0.0</td>\n",
       "    </tr>\n",
       "    <tr>\n",
       "      <th>28672</th>\n",
       "      <td>evilsocket/pwnagotchi-plugins-contrib</td>\n",
       "      <td>False</td>\n",
       "      <td>NaN</td>\n",
       "      <td>False</td>\n",
       "      <td>False</td>\n",
       "      <td>0.0</td>\n",
       "      <td>0.0</td>\n",
       "    </tr>\n",
       "    <tr>\n",
       "      <th>28673</th>\n",
       "      <td>BitTheByte/Monitorizer</td>\n",
       "      <td>False</td>\n",
       "      <td>NaN</td>\n",
       "      <td>False</td>\n",
       "      <td>True</td>\n",
       "      <td>0.0</td>\n",
       "      <td>0.0</td>\n",
       "    </tr>\n",
       "    <tr>\n",
       "      <th>28674</th>\n",
       "      <td>awslabs/aws-lambda-powertools</td>\n",
       "      <td>False</td>\n",
       "      <td>NaN</td>\n",
       "      <td>False</td>\n",
       "      <td>False</td>\n",
       "      <td>31.0</td>\n",
       "      <td>31.0</td>\n",
       "    </tr>\n",
       "  </tbody>\n",
       "</table>\n",
       "<p>28180 rows × 7 columns</p>\n",
       "</div>"
      ],
      "text/plain": [
       "                             Name with Owner  setup_parsed setup_log  \\\n",
       "0           donnemartin/system-design-primer         False       NaN   \n",
       "1                       vinta/awesome-python         False       NaN   \n",
       "2                       TheAlgorithms/Python         False       NaN   \n",
       "3                    public-apis/public-apis         False       NaN   \n",
       "4                          tensorflow/models         False       NaN   \n",
       "...                                      ...           ...       ...   \n",
       "28670                   cybercdh/phishfinder         False       NaN   \n",
       "28671                          nlpdata/dream         False       NaN   \n",
       "28672  evilsocket/pwnagotchi-plugins-contrib         False       NaN   \n",
       "28673                 BitTheByte/Monitorizer         False       NaN   \n",
       "28674          awslabs/aws-lambda-powertools         False       NaN   \n",
       "\n",
       "       setup_exists  requirements_exists  parsed_tags  original_tags  \n",
       "0             False                False          0.0            0.0  \n",
       "1             False                 True          0.0            0.0  \n",
       "2             False                 True          0.0            0.0  \n",
       "3             False                False          0.0            0.0  \n",
       "4             False                False         15.0           16.0  \n",
       "...             ...                  ...          ...            ...  \n",
       "28670         False                 True          0.0            0.0  \n",
       "28671         False                False          0.0            0.0  \n",
       "28672         False                False          0.0            0.0  \n",
       "28673         False                 True          0.0            0.0  \n",
       "28674         False                False         31.0           31.0  \n",
       "\n",
       "[28180 rows x 7 columns]"
      ]
     },
     "execution_count": 103,
     "metadata": {},
     "output_type": "execute_result"
    }
   ],
   "source": [
    "not_na = df_projects_w_requirements[df_projects_w_requirements['original_tags'].notna()]\n",
    "not_na"
   ]
  },
  {
   "cell_type": "code",
   "execution_count": 106,
   "id": "automotive-fusion",
   "metadata": {},
   "outputs": [
    {
     "data": {
      "text/plain": [
       "246998.0"
      ]
     },
     "execution_count": 106,
     "metadata": {},
     "output_type": "execute_result"
    }
   ],
   "source": [
    "import numpy as np\n",
    "res = not_na[not_na['setup_exists'] == True]['parsed_tags'].to_numpy()\n",
    "np.sum(res)"
   ]
  },
  {
   "cell_type": "code",
   "execution_count": 107,
   "id": "faced-lying",
   "metadata": {},
   "outputs": [
    {
     "data": {
      "text/html": [
       "<div>\n",
       "<style scoped>\n",
       "    .dataframe tbody tr th:only-of-type {\n",
       "        vertical-align: middle;\n",
       "    }\n",
       "\n",
       "    .dataframe tbody tr th {\n",
       "        vertical-align: top;\n",
       "    }\n",
       "\n",
       "    .dataframe thead th {\n",
       "        text-align: right;\n",
       "    }\n",
       "</style>\n",
       "<table border=\"1\" class=\"dataframe\">\n",
       "  <thead>\n",
       "    <tr style=\"text-align: right;\">\n",
       "      <th></th>\n",
       "      <th>Name with Owner</th>\n",
       "      <th>setup_parsed</th>\n",
       "      <th>setup_log</th>\n",
       "      <th>setup_exists</th>\n",
       "      <th>requirements_exists</th>\n",
       "      <th>parsed_tags</th>\n",
       "      <th>original_tags</th>\n",
       "    </tr>\n",
       "  </thead>\n",
       "  <tbody>\n",
       "    <tr>\n",
       "      <th>33</th>\n",
       "      <td>faif/python-patterns</td>\n",
       "      <td>False</td>\n",
       "      <td>NaN</td>\n",
       "      <td>True</td>\n",
       "      <td>False</td>\n",
       "      <td>0.0</td>\n",
       "      <td>1.0</td>\n",
       "    </tr>\n",
       "    <tr>\n",
       "      <th>35</th>\n",
       "      <td>facebookresearch/Detectron</td>\n",
       "      <td>False</td>\n",
       "      <td>NaN</td>\n",
       "      <td>True</td>\n",
       "      <td>True</td>\n",
       "      <td>0.0</td>\n",
       "      <td>0.0</td>\n",
       "    </tr>\n",
       "    <tr>\n",
       "      <th>54</th>\n",
       "      <td>odoo/odoo</td>\n",
       "      <td>True</td>\n",
       "      <td>/home/hrz/miniconda3/lib/python3.8/site-packag...</td>\n",
       "      <td>True</td>\n",
       "      <td>True</td>\n",
       "      <td>0.0</td>\n",
       "      <td>0.0</td>\n",
       "    </tr>\n",
       "    <tr>\n",
       "      <th>69</th>\n",
       "      <td>eriklindernoren/ML-From-Scratch</td>\n",
       "      <td>True</td>\n",
       "      <td>NaN</td>\n",
       "      <td>True</td>\n",
       "      <td>True</td>\n",
       "      <td>0.0</td>\n",
       "      <td>0.0</td>\n",
       "    </tr>\n",
       "    <tr>\n",
       "      <th>142</th>\n",
       "      <td>jupyter/jupyter</td>\n",
       "      <td>True</td>\n",
       "      <td>NaN</td>\n",
       "      <td>True</td>\n",
       "      <td>False</td>\n",
       "      <td>0.0</td>\n",
       "      <td>0.0</td>\n",
       "    </tr>\n",
       "    <tr>\n",
       "      <th>...</th>\n",
       "      <td>...</td>\n",
       "      <td>...</td>\n",
       "      <td>...</td>\n",
       "      <td>...</td>\n",
       "      <td>...</td>\n",
       "      <td>...</td>\n",
       "      <td>...</td>\n",
       "    </tr>\n",
       "    <tr>\n",
       "      <th>28626</th>\n",
       "      <td>kaelscion/slither</td>\n",
       "      <td>True</td>\n",
       "      <td>/home/hrz/miniconda3/lib/python3.8/site-packag...</td>\n",
       "      <td>True</td>\n",
       "      <td>False</td>\n",
       "      <td>0.0</td>\n",
       "      <td>0.0</td>\n",
       "    </tr>\n",
       "    <tr>\n",
       "      <th>28633</th>\n",
       "      <td>lagmoellertim/freenet-funk-api</td>\n",
       "      <td>True</td>\n",
       "      <td>NaN</td>\n",
       "      <td>True</td>\n",
       "      <td>True</td>\n",
       "      <td>0.0</td>\n",
       "      <td>0.0</td>\n",
       "    </tr>\n",
       "    <tr>\n",
       "      <th>28656</th>\n",
       "      <td>alexlee-gk/slac</td>\n",
       "      <td>False</td>\n",
       "      <td>NaN</td>\n",
       "      <td>True</td>\n",
       "      <td>True</td>\n",
       "      <td>0.0</td>\n",
       "      <td>0.0</td>\n",
       "    </tr>\n",
       "    <tr>\n",
       "      <th>28665</th>\n",
       "      <td>sagelywizard/pytorch-mdn</td>\n",
       "      <td>False</td>\n",
       "      <td>NaN</td>\n",
       "      <td>True</td>\n",
       "      <td>True</td>\n",
       "      <td>0.0</td>\n",
       "      <td>0.0</td>\n",
       "    </tr>\n",
       "    <tr>\n",
       "      <th>28666</th>\n",
       "      <td>Ailln/cn2an</td>\n",
       "      <td>True</td>\n",
       "      <td>NaN</td>\n",
       "      <td>True</td>\n",
       "      <td>True</td>\n",
       "      <td>0.0</td>\n",
       "      <td>0.0</td>\n",
       "    </tr>\n",
       "  </tbody>\n",
       "</table>\n",
       "<p>3236 rows × 7 columns</p>\n",
       "</div>"
      ],
      "text/plain": [
       "                       Name with Owner  setup_parsed  \\\n",
       "33                faif/python-patterns         False   \n",
       "35          facebookresearch/Detectron         False   \n",
       "54                           odoo/odoo          True   \n",
       "69     eriklindernoren/ML-From-Scratch          True   \n",
       "142                    jupyter/jupyter          True   \n",
       "...                                ...           ...   \n",
       "28626                kaelscion/slither          True   \n",
       "28633   lagmoellertim/freenet-funk-api          True   \n",
       "28656                  alexlee-gk/slac         False   \n",
       "28665         sagelywizard/pytorch-mdn         False   \n",
       "28666                      Ailln/cn2an          True   \n",
       "\n",
       "                                               setup_log  setup_exists  \\\n",
       "33                                                   NaN          True   \n",
       "35                                                   NaN          True   \n",
       "54     /home/hrz/miniconda3/lib/python3.8/site-packag...          True   \n",
       "69                                                   NaN          True   \n",
       "142                                                  NaN          True   \n",
       "...                                                  ...           ...   \n",
       "28626  /home/hrz/miniconda3/lib/python3.8/site-packag...          True   \n",
       "28633                                                NaN          True   \n",
       "28656                                                NaN          True   \n",
       "28665                                                NaN          True   \n",
       "28666                                                NaN          True   \n",
       "\n",
       "       requirements_exists  parsed_tags  original_tags  \n",
       "33                   False          0.0            1.0  \n",
       "35                    True          0.0            0.0  \n",
       "54                    True          0.0            0.0  \n",
       "69                    True          0.0            0.0  \n",
       "142                  False          0.0            0.0  \n",
       "...                    ...          ...            ...  \n",
       "28626                False          0.0            0.0  \n",
       "28633                 True          0.0            0.0  \n",
       "28656                 True          0.0            0.0  \n",
       "28665                 True          0.0            0.0  \n",
       "28666                 True          0.0            0.0  \n",
       "\n",
       "[3236 rows x 7 columns]"
      ]
     },
     "execution_count": 107,
     "metadata": {},
     "output_type": "execute_result"
    }
   ],
   "source": [
    "not_na[(not_na['setup_exists'] == True) & (not_na['parsed_tags'] == 0)]"
   ]
  },
  {
   "cell_type": "code",
   "execution_count": 92,
   "id": "joined-infrared",
   "metadata": {},
   "outputs": [
    {
     "name": "stdout",
     "output_type": "stream",
     "text": [
      "zero_val 14502\n",
      "mean 29.747697031729786\n",
      "median 11.0\n",
      "max 15205.0\n",
      "std 160.17380216599466\n"
     ]
    },
    {
     "data": {
      "text/plain": [
       "{'whiskers': [<matplotlib.lines.Line2D at 0x7f583a28e610>,\n",
       "  <matplotlib.lines.Line2D at 0x7f583a28e580>],\n",
       " 'caps': [<matplotlib.lines.Line2D at 0x7f583a28d100>,\n",
       "  <matplotlib.lines.Line2D at 0x7f583a28dbb0>],\n",
       " 'boxes': [<matplotlib.lines.Line2D at 0x7f583a28e160>],\n",
       " 'medians': [<matplotlib.lines.Line2D at 0x7f583a28d310>],\n",
       " 'fliers': [<matplotlib.lines.Line2D at 0x7f583a28d7c0>],\n",
       " 'means': []}"
      ]
     },
     "execution_count": 92,
     "metadata": {},
     "output_type": "execute_result"
    },
    {
     "data": {
      "image/png": "[encoded data removed]",
      "text/plain": [
       "<Figure size 432x288 with 1 Axes>"
      ]
     },
     "metadata": {
      "needs_background": "light"
     },
     "output_type": "display_data"
    }
   ],
   "source": [
    "import matplotlib.pyplot as plt\n",
    "import numpy as np\n",
    "\n",
    "print('zero_val',len(not_na[not_na['original_tags'] == 0]))\n",
    "res = not_na[not_na['original_tags'] != 0]['original_tags'].to_numpy()\n",
    "print('mean',np.mean(res))\n",
    "print('median',np.median(res))\n",
    "print('max',np.max(res))\n",
    "print('std',np.std(res))\n",
    "\n",
    "plt.boxplot(res)"
   ]
  },
  {
   "cell_type": "code",
   "execution_count": 96,
   "id": "polar-centre",
   "metadata": {},
   "outputs": [
    {
     "name": "stdout",
     "output_type": "stream",
     "text": [
      "mean 0.9053742988087347\n",
      "median 1.0\n",
      "min 0.0\n",
      "std 0.2614788973012966\n"
     ]
    },
    {
     "data": {
      "text/plain": [
       "{'whiskers': [<matplotlib.lines.Line2D at 0x7f5864d0e550>,\n",
       "  <matplotlib.lines.Line2D at 0x7f5864d0e1c0>],\n",
       " 'caps': [<matplotlib.lines.Line2D at 0x7f5864cee310>,\n",
       "  <matplotlib.lines.Line2D at 0x7f5864cee9d0>],\n",
       " 'boxes': [<matplotlib.lines.Line2D at 0x7f5864d0e3d0>],\n",
       " 'medians': [<matplotlib.lines.Line2D at 0x7f5864cee430>],\n",
       " 'fliers': [<matplotlib.lines.Line2D at 0x7f5864cee2b0>],\n",
       " 'means': []}"
      ]
     },
     "execution_count": 96,
     "metadata": {},
     "output_type": "execute_result"
    },
    {
     "data": {
      "image/png": "[encoded data removed]",
      "text/plain": [
       "<Figure size 432x288 with 1 Axes>"
      ]
     },
     "metadata": {
      "needs_background": "light"
     },
     "output_type": "display_data"
    }
   ],
   "source": [
    "res_parsed = not_na[not_na['original_tags'] != 0]['parsed_tags'].to_numpy()\n",
    "res2 = res_parsed/res\n",
    "\n",
    "print('mean',np.mean(res2))\n",
    "print('median',np.median(res2))\n",
    "print('min',np.min(res2))\n",
    "print('std',np.std(res2))\n",
    "plt.boxplot(res2)"
   ]
  },
  {
   "cell_type": "code",
   "execution_count": null,
   "id": "polar-locking",
   "metadata": {},
   "outputs": [],
   "source": []
  }
 ],
 "metadata": {
  "kernelspec": {
   "display_name": "Python 3",
   "language": "python",
   "name": "python3"
  },
  "language_info": {
   "codemirror_mode": {
    "name": "ipython",
    "version": 3
   },
   "file_extension": ".py",
   "mimetype": "text/x-python",
   "name": "python",
   "nbconvert_exporter": "python",
   "pygments_lexer": "ipython3",
   "version": "3.8.5"
  }
 },
 "nbformat": 4,
 "nbformat_minor": 5
}
